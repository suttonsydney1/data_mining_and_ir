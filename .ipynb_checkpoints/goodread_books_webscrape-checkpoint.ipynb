{
 "cells": [
  {
   "cell_type": "markdown",
   "metadata": {},
   "source": [
    "Scrape goodreads \"books that everyone should read at least once\" page and perform data analysis"
   ]
  },
  {
   "cell_type": "markdown",
   "metadata": {},
   "source": [
    "## Web Scraping - Books and Comments Section"
   ]
  },
  {
   "cell_type": "code",
   "execution_count": 1,
   "metadata": {},
   "outputs": [],
   "source": [
    "import requests\n",
    "from bs4 import BeautifulSoup"
   ]
  },
  {
   "cell_type": "code",
   "execution_count": 2,
   "metadata": {},
   "outputs": [],
   "source": [
    "#pull url and create soup object\n",
    "url = 'https://www.goodreads.com/list/show/264.Books_That_Everyone_Should_Read_At_Least_Once'"
   ]
  },
  {
   "cell_type": "markdown",
   "metadata": {},
   "source": [
    "### Scrape book information"
   ]
  },
  {
   "cell_type": "code",
   "execution_count": 3,
   "metadata": {},
   "outputs": [],
   "source": [
    "titles = []\n",
    "author = []\n",
    "rating = []\n",
    "urls = []\n",
    "number = []\n",
    "\n",
    "req = requests.get(url)\n",
    "soup = BeautifulSoup(req.text, 'html.parser')"
   ]
  },
  {
   "cell_type": "code",
   "execution_count": 4,
   "metadata": {},
   "outputs": [],
   "source": [
    "for item in soup.find_all('a',attrs={'class':'bookTitle'}):\n",
    "    titletext = item.text\n",
    "    titles.append(titletext)\n",
    "    \n",
    "for item in soup.find_all('a',attrs={'class':'authorName'}):\n",
    "    aut = item.text\n",
    "    author.append(aut)\n",
    "        \n",
    "for item in soup.find_all('span',attrs={'class':'minirating'}):\n",
    "    rate = item.text\n",
    "    rating.append(rate)\n",
    "        \n",
    "for item in soup.find_all('a',attrs={'class':'bookTitle'}):\n",
    "    url = item['href']\n",
    "    if not url.startswith('http'):\n",
    "        url = \"https://goodreads.com\"+url\n",
    "    urls.append(url)\n",
    "        \n",
    "for item in soup.find_all('td',attrs={'class':'number'}):\n",
    "    num = item.text\n",
    "    number.append(num)"
   ]
  },
  {
   "cell_type": "markdown",
   "metadata": {},
   "source": [
    "### Scrape comments section"
   ]
  },
  {
   "cell_type": "code",
   "execution_count": 5,
   "metadata": {},
   "outputs": [
    {
     "data": {
      "text/plain": [
       "['\\nDebbie\\n',\n",
       " '\\nMary Todd\\n',\n",
       " '\\nWendy\\n',\n",
       " '\\n[deleted user]\\n      ',\n",
       " '\\nRobbie\\n']"
      ]
     },
     "execution_count": 5,
     "metadata": {},
     "output_type": "execute_result"
    }
   ],
   "source": [
    "#find the comment authors\n",
    "comment_author = []\n",
    "for item in soup.find_all('span',attrs={'class':'commentAuthor'}):\n",
    "    cmt = item.text\n",
    "    comment_author.append(cmt)\n",
    "    \n",
    "comment_author[:5]"
   ]
  },
  {
   "cell_type": "code",
   "execution_count": 6,
   "metadata": {},
   "outputs": [
    {
     "data": {
      "text/plain": [
       "['\\n\\n      i dnot think you can get a copy of uncle toms cabin any more\\n    \\n',\n",
       " '\\n\\n      What a great list!\\n    \\n',\n",
       " \"\\n\\n      Of course you can get Uncle tom's Cabin... why wouldn't you be able to.? It's required reading in many school districts. \\n    \\n\",\n",
       " \"\\n      Not only can you still get it, there's a handsome new illustrated and annotated edition, published in 2007, with an introduction by Henry Louis Gates Jr.\\n\\n\",\n",
       " \"\\n\\n      I am absolutely delighted by this great list of books. A thousand thanks. I have read quite a few of these myself. Right now I'm into an Indian philosophy phase!Try these Epic Indian philosophical books if you find the time> The BHAGAVAD GITA, The MAHABHARATA and RAMAYANA.Keep on reading folks! It's the best way to be healthy and have a sound mind! Cheers to all!Regards,Robbie\\n\\n\"]"
      ]
     },
     "execution_count": 6,
     "metadata": {},
     "output_type": "execute_result"
    }
   ],
   "source": [
    "#find the comments from the comment section on the page\n",
    "comment = []\n",
    "for item in soup.find_all('div',attrs={'class':'mediumText reviewText'}):\n",
    "    cmnt = item.text\n",
    "    comment.append(cmnt)\n",
    "    \n",
    "comment[:5]"
   ]
  },
  {
   "cell_type": "markdown",
   "metadata": {},
   "source": [
    "## Create dataframes for books and comments"
   ]
  },
  {
   "cell_type": "code",
   "execution_count": 7,
   "metadata": {},
   "outputs": [],
   "source": [
    "import pandas as pd"
   ]
  },
  {
   "cell_type": "code",
   "execution_count": 8,
   "metadata": {},
   "outputs": [
    {
     "data": {
      "text/html": [
       "<div>\n",
       "<style scoped>\n",
       "    .dataframe tbody tr th:only-of-type {\n",
       "        vertical-align: middle;\n",
       "    }\n",
       "\n",
       "    .dataframe tbody tr th {\n",
       "        vertical-align: top;\n",
       "    }\n",
       "\n",
       "    .dataframe thead th {\n",
       "        text-align: right;\n",
       "    }\n",
       "</style>\n",
       "<table border=\"1\" class=\"dataframe\">\n",
       "  <thead>\n",
       "    <tr style=\"text-align: right;\">\n",
       "      <th></th>\n",
       "      <th>title</th>\n",
       "      <th>author</th>\n",
       "      <th>rating</th>\n",
       "      <th>url</th>\n",
       "      <th>number</th>\n",
       "    </tr>\n",
       "  </thead>\n",
       "  <tbody>\n",
       "    <tr>\n",
       "      <th>0</th>\n",
       "      <td>\\nTo Kill a Mockingbird\\n</td>\n",
       "      <td>Harper Lee</td>\n",
       "      <td>4.27 avg rating — 4,990,356 ratings</td>\n",
       "      <td>https://goodreads.com/book/show/2657.To_Kill_a...</td>\n",
       "      <td>1</td>\n",
       "    </tr>\n",
       "    <tr>\n",
       "      <th>1</th>\n",
       "      <td>\\nHarry Potter and the Sorcerer's Stone (Harry...</td>\n",
       "      <td>J.K. Rowling</td>\n",
       "      <td>4.47 avg rating — 7,960,059 ratings</td>\n",
       "      <td>https://goodreads.com/book/show/3.Harry_Potter...</td>\n",
       "      <td>2</td>\n",
       "    </tr>\n",
       "    <tr>\n",
       "      <th>2</th>\n",
       "      <td>\\nPride and Prejudice\\n</td>\n",
       "      <td>Jane Austen</td>\n",
       "      <td>4.27 avg rating — 3,378,369 ratings</td>\n",
       "      <td>https://goodreads.com/book/show/1885.Pride_and...</td>\n",
       "      <td>3</td>\n",
       "    </tr>\n",
       "    <tr>\n",
       "      <th>3</th>\n",
       "      <td>\\nThe Diary of a Young Girl\\n</td>\n",
       "      <td>Anne Frank</td>\n",
       "      <td>4.16 avg rating — 3,074,354 ratings</td>\n",
       "      <td>https://goodreads.com/book/show/48855.The_Diar...</td>\n",
       "      <td>4</td>\n",
       "    </tr>\n",
       "    <tr>\n",
       "      <th>4</th>\n",
       "      <td>\\nAnimal Farm\\n</td>\n",
       "      <td>George Orwell</td>\n",
       "      <td>3.97 avg rating — 3,080,606 ratings</td>\n",
       "      <td>https://goodreads.com/book/show/170448.Animal_...</td>\n",
       "      <td>5</td>\n",
       "    </tr>\n",
       "  </tbody>\n",
       "</table>\n",
       "</div>"
      ],
      "text/plain": [
       "                                               title         author  \\\n",
       "0                          \\nTo Kill a Mockingbird\\n     Harper Lee   \n",
       "1  \\nHarry Potter and the Sorcerer's Stone (Harry...   J.K. Rowling   \n",
       "2                            \\nPride and Prejudice\\n    Jane Austen   \n",
       "3                      \\nThe Diary of a Young Girl\\n     Anne Frank   \n",
       "4                                    \\nAnimal Farm\\n  George Orwell   \n",
       "\n",
       "                                 rating  \\\n",
       "0   4.27 avg rating — 4,990,356 ratings   \n",
       "1   4.47 avg rating — 7,960,059 ratings   \n",
       "2   4.27 avg rating — 3,378,369 ratings   \n",
       "3   4.16 avg rating — 3,074,354 ratings   \n",
       "4   3.97 avg rating — 3,080,606 ratings   \n",
       "\n",
       "                                                 url number  \n",
       "0  https://goodreads.com/book/show/2657.To_Kill_a...      1  \n",
       "1  https://goodreads.com/book/show/3.Harry_Potter...      2  \n",
       "2  https://goodreads.com/book/show/1885.Pride_and...      3  \n",
       "3  https://goodreads.com/book/show/48855.The_Diar...      4  \n",
       "4  https://goodreads.com/book/show/170448.Animal_...      5  "
      ]
     },
     "execution_count": 8,
     "metadata": {},
     "output_type": "execute_result"
    }
   ],
   "source": [
    "#put all the book information into a dataframe\n",
    "books_df = pd.DataFrame(titles,columns=['title'])\n",
    "books_df['author']=author\n",
    "books_df['rating']=rating\n",
    "books_df['url']=urls\n",
    "books_df['number']=number\n",
    "\n",
    "books_df.head()"
   ]
  },
  {
   "cell_type": "code",
   "execution_count": 9,
   "metadata": {},
   "outputs": [
    {
     "data": {
      "text/html": [
       "<div>\n",
       "<style scoped>\n",
       "    .dataframe tbody tr th:only-of-type {\n",
       "        vertical-align: middle;\n",
       "    }\n",
       "\n",
       "    .dataframe tbody tr th {\n",
       "        vertical-align: top;\n",
       "    }\n",
       "\n",
       "    .dataframe thead th {\n",
       "        text-align: right;\n",
       "    }\n",
       "</style>\n",
       "<table border=\"1\" class=\"dataframe\">\n",
       "  <thead>\n",
       "    <tr style=\"text-align: right;\">\n",
       "      <th></th>\n",
       "      <th>comment</th>\n",
       "      <th>comment_author</th>\n",
       "    </tr>\n",
       "  </thead>\n",
       "  <tbody>\n",
       "    <tr>\n",
       "      <th>0</th>\n",
       "      <td>\\n\\n      i dnot think you can get a copy of u...</td>\n",
       "      <td>\\nDebbie\\n</td>\n",
       "    </tr>\n",
       "    <tr>\n",
       "      <th>1</th>\n",
       "      <td>\\n\\n      What a great list!\\n    \\n</td>\n",
       "      <td>\\nMary Todd\\n</td>\n",
       "    </tr>\n",
       "    <tr>\n",
       "      <th>2</th>\n",
       "      <td>\\n\\n      Of course you can get Uncle tom's Ca...</td>\n",
       "      <td>\\nWendy\\n</td>\n",
       "    </tr>\n",
       "    <tr>\n",
       "      <th>3</th>\n",
       "      <td>\\n      Not only can you still get it, there's...</td>\n",
       "      <td>\\n[deleted user]\\n</td>\n",
       "    </tr>\n",
       "    <tr>\n",
       "      <th>4</th>\n",
       "      <td>\\n\\n      I am absolutely delighted by this gr...</td>\n",
       "      <td>\\nRobbie\\n</td>\n",
       "    </tr>\n",
       "  </tbody>\n",
       "</table>\n",
       "</div>"
      ],
      "text/plain": [
       "                                             comment            comment_author\n",
       "0  \\n\\n      i dnot think you can get a copy of u...                \\nDebbie\\n\n",
       "1               \\n\\n      What a great list!\\n    \\n             \\nMary Todd\\n\n",
       "2  \\n\\n      Of course you can get Uncle tom's Ca...                 \\nWendy\\n\n",
       "3  \\n      Not only can you still get it, there's...  \\n[deleted user]\\n      \n",
       "4  \\n\\n      I am absolutely delighted by this gr...                \\nRobbie\\n"
      ]
     },
     "execution_count": 9,
     "metadata": {},
     "output_type": "execute_result"
    }
   ],
   "source": [
    "#put all the comment information into a separate dataframe\n",
    "comment_df = pd.DataFrame(comment,columns=['comment'])\n",
    "comment_df['comment_author']=comment_author\n",
    "\n",
    "comment_df.head()"
   ]
  },
  {
   "cell_type": "markdown",
   "metadata": {},
   "source": [
    "### dataframe cleaning"
   ]
  },
  {
   "cell_type": "markdown",
   "metadata": {},
   "source": [
    "Clean each dataframe for data analysis and conduct text processing"
   ]
  },
  {
   "cell_type": "code",
   "execution_count": 10,
   "metadata": {},
   "outputs": [
    {
     "data": {
      "text/plain": [
       "title     object\n",
       "author    object\n",
       "rating    object\n",
       "url       object\n",
       "number    object\n",
       "dtype: object"
      ]
     },
     "execution_count": 10,
     "metadata": {},
     "output_type": "execute_result"
    }
   ],
   "source": [
    "books_df.dtypes"
   ]
  },
  {
   "cell_type": "code",
   "execution_count": 11,
   "metadata": {},
   "outputs": [
    {
     "data": {
      "text/plain": [
       "comment           object\n",
       "comment_author    object\n",
       "dtype: object"
      ]
     },
     "execution_count": 11,
     "metadata": {},
     "output_type": "execute_result"
    }
   ],
   "source": [
    "comment_df.dtypes"
   ]
  },
  {
   "cell_type": "code",
   "execution_count": 12,
   "metadata": {},
   "outputs": [
    {
     "name": "stdout",
     "output_type": "stream",
     "text": [
      "(100, 5)\n",
      "(50, 2)\n"
     ]
    }
   ],
   "source": [
    "print(books_df.shape)\n",
    "print(comment_df.shape)"
   ]
  },
  {
   "cell_type": "code",
   "execution_count": 13,
   "metadata": {},
   "outputs": [],
   "source": [
    "#split the ratings column into avg ratings and number of ratings\n",
    "books_df[['avg_rating','num_ratings']] = books_df['rating'].str.split('—',expand=True)\n",
    "del books_df['rating']"
   ]
  },
  {
   "cell_type": "code",
   "execution_count": 14,
   "metadata": {},
   "outputs": [],
   "source": [
    "books_df['avg_rating'] = books_df['avg_rating'].astype(str).str[:5]\n",
    "books_df['num_ratings'] = books_df['num_ratings'].astype(str).str[:10]"
   ]
  },
  {
   "cell_type": "code",
   "execution_count": 15,
   "metadata": {},
   "outputs": [
    {
     "name": "stderr",
     "output_type": "stream",
     "text": [
      "[nltk_data] Downloading package stopwords to\n",
      "[nltk_data]     C:\\Users\\Sydney\\AppData\\Roaming\\nltk_data...\n",
      "[nltk_data]   Package stopwords is already up-to-date!\n"
     ]
    }
   ],
   "source": [
    "#begin text processing to remove stop words and ensure proper values in text\n",
    "import nltk, re, pprint\n",
    "from nltk import word_tokenize\n",
    "from nltk.corpus import stopwords\n",
    "nltk.download(\"stopwords\")\n",
    "stop_words = stopwords.words(\"english\") "
   ]
  },
  {
   "cell_type": "code",
   "execution_count": 16,
   "metadata": {},
   "outputs": [],
   "source": [
    "for val in books_df['title']:\n",
    "    if val not in stop_words:\n",
    "        newval = re.sub(r'[\\W]+', '', val.lower())\n",
    "        books_df['title'].replace(val,newval)\n",
    "        \n",
    "books_df = books_df.replace(r'\\n',' ', regex=True)"
   ]
  },
  {
   "cell_type": "code",
   "execution_count": 17,
   "metadata": {},
   "outputs": [],
   "source": [
    "comment_df\n",
    "for val in comment_df['comment']:\n",
    "    if val not in stop_words:\n",
    "        newval = re.sub(r'[\\W]+', '', val.lower())\n",
    "        comment_df['comment'].replace(val,newval)\n",
    "comment_df = comment_df.replace(r'\\n',' ', regex=True)"
   ]
  },
  {
   "cell_type": "markdown",
   "metadata": {},
   "source": [
    "## Data analysis"
   ]
  },
  {
   "cell_type": "markdown",
   "metadata": {},
   "source": [
    "### perform topic modeling and sentiment analysis on comment df"
   ]
  },
  {
   "cell_type": "code",
   "execution_count": 18,
   "metadata": {},
   "outputs": [
    {
     "name": "stderr",
     "output_type": "stream",
     "text": [
      "[nltk_data] Downloading package vader_lexicon to\n",
      "[nltk_data]     C:\\Users\\Sydney\\AppData\\Roaming\\nltk_data...\n",
      "[nltk_data]   Package vader_lexicon is already up-to-date!\n"
     ]
    },
    {
     "data": {
      "text/plain": [
       "True"
      ]
     },
     "execution_count": 18,
     "metadata": {},
     "output_type": "execute_result"
    }
   ],
   "source": [
    "#import nltk items for sentiment analysis\n",
    "from nltk.sentiment.vader import SentimentIntensityAnalyzer\n",
    "import nltk\n",
    "nltk.download('vader_lexicon')"
   ]
  },
  {
   "cell_type": "code",
   "execution_count": 19,
   "metadata": {},
   "outputs": [],
   "source": [
    "#sentiment intensity analyzer to comment_df\n",
    "analyzer = SentimentIntensityAnalyzer()\n",
    "com_sentiment = [analyzer.polarity_scores(t) for t in comment_df.comment]"
   ]
  },
  {
   "cell_type": "code",
   "execution_count": 20,
   "metadata": {},
   "outputs": [
    {
     "data": {
      "text/html": [
       "<div>\n",
       "<style scoped>\n",
       "    .dataframe tbody tr th:only-of-type {\n",
       "        vertical-align: middle;\n",
       "    }\n",
       "\n",
       "    .dataframe tbody tr th {\n",
       "        vertical-align: top;\n",
       "    }\n",
       "\n",
       "    .dataframe thead th {\n",
       "        text-align: right;\n",
       "    }\n",
       "</style>\n",
       "<table border=\"1\" class=\"dataframe\">\n",
       "  <thead>\n",
       "    <tr style=\"text-align: right;\">\n",
       "      <th></th>\n",
       "      <th>neg</th>\n",
       "      <th>neu</th>\n",
       "      <th>pos</th>\n",
       "      <th>compound</th>\n",
       "      <th>comment</th>\n",
       "    </tr>\n",
       "  </thead>\n",
       "  <tbody>\n",
       "    <tr>\n",
       "      <th>0</th>\n",
       "      <td>0.0</td>\n",
       "      <td>1.000</td>\n",
       "      <td>0.000</td>\n",
       "      <td>0.0000</td>\n",
       "      <td>i dnot think you can get a copy of unc...</td>\n",
       "    </tr>\n",
       "    <tr>\n",
       "      <th>1</th>\n",
       "      <td>0.0</td>\n",
       "      <td>0.313</td>\n",
       "      <td>0.687</td>\n",
       "      <td>0.6588</td>\n",
       "      <td>What a great list!</td>\n",
       "    </tr>\n",
       "    <tr>\n",
       "      <th>2</th>\n",
       "      <td>0.0</td>\n",
       "      <td>1.000</td>\n",
       "      <td>0.000</td>\n",
       "      <td>0.0000</td>\n",
       "      <td>Of course you can get Uncle tom's Cabi...</td>\n",
       "    </tr>\n",
       "    <tr>\n",
       "      <th>3</th>\n",
       "      <td>0.0</td>\n",
       "      <td>0.882</td>\n",
       "      <td>0.118</td>\n",
       "      <td>0.4939</td>\n",
       "      <td>Not only can you still get it, there's ...</td>\n",
       "    </tr>\n",
       "    <tr>\n",
       "      <th>4</th>\n",
       "      <td>0.0</td>\n",
       "      <td>0.713</td>\n",
       "      <td>0.287</td>\n",
       "      <td>0.9711</td>\n",
       "      <td>I am absolutely delighted by this grea...</td>\n",
       "    </tr>\n",
       "  </tbody>\n",
       "</table>\n",
       "</div>"
      ],
      "text/plain": [
       "   neg    neu    pos  compound  \\\n",
       "0  0.0  1.000  0.000    0.0000   \n",
       "1  0.0  0.313  0.687    0.6588   \n",
       "2  0.0  1.000  0.000    0.0000   \n",
       "3  0.0  0.882  0.118    0.4939   \n",
       "4  0.0  0.713  0.287    0.9711   \n",
       "\n",
       "                                             comment  \n",
       "0          i dnot think you can get a copy of unc...  \n",
       "1                           What a great list!        \n",
       "2          Of course you can get Uncle tom's Cabi...  \n",
       "3         Not only can you still get it, there's ...  \n",
       "4          I am absolutely delighted by this grea...  "
      ]
     },
     "execution_count": 20,
     "metadata": {},
     "output_type": "execute_result"
    }
   ],
   "source": [
    "#create sentiment dataframe with neg, neu, pos ranks\n",
    "sentiment = pd.DataFrame(com_sentiment)\n",
    "sentiment['comment'] = comment_df.comment\n",
    "sentiment.head()"
   ]
  },
  {
   "cell_type": "code",
   "execution_count": 21,
   "metadata": {},
   "outputs": [
    {
     "data": {
      "text/html": [
       "<div>\n",
       "<style scoped>\n",
       "    .dataframe tbody tr th:only-of-type {\n",
       "        vertical-align: middle;\n",
       "    }\n",
       "\n",
       "    .dataframe tbody tr th {\n",
       "        vertical-align: top;\n",
       "    }\n",
       "\n",
       "    .dataframe thead th {\n",
       "        text-align: right;\n",
       "    }\n",
       "</style>\n",
       "<table border=\"1\" class=\"dataframe\">\n",
       "  <thead>\n",
       "    <tr style=\"text-align: right;\">\n",
       "      <th></th>\n",
       "      <th>neg</th>\n",
       "      <th>neu</th>\n",
       "      <th>pos</th>\n",
       "      <th>compound</th>\n",
       "      <th>comment</th>\n",
       "      <th>sentiment</th>\n",
       "    </tr>\n",
       "  </thead>\n",
       "  <tbody>\n",
       "    <tr>\n",
       "      <th>0</th>\n",
       "      <td>0.0</td>\n",
       "      <td>1.000</td>\n",
       "      <td>0.000</td>\n",
       "      <td>0.0000</td>\n",
       "      <td>i dnot think you can get a copy of unc...</td>\n",
       "      <td>NEU</td>\n",
       "    </tr>\n",
       "    <tr>\n",
       "      <th>1</th>\n",
       "      <td>0.0</td>\n",
       "      <td>0.313</td>\n",
       "      <td>0.687</td>\n",
       "      <td>0.6588</td>\n",
       "      <td>What a great list!</td>\n",
       "      <td>POS</td>\n",
       "    </tr>\n",
       "    <tr>\n",
       "      <th>2</th>\n",
       "      <td>0.0</td>\n",
       "      <td>1.000</td>\n",
       "      <td>0.000</td>\n",
       "      <td>0.0000</td>\n",
       "      <td>Of course you can get Uncle tom's Cabi...</td>\n",
       "      <td>NEU</td>\n",
       "    </tr>\n",
       "    <tr>\n",
       "      <th>3</th>\n",
       "      <td>0.0</td>\n",
       "      <td>0.882</td>\n",
       "      <td>0.118</td>\n",
       "      <td>0.4939</td>\n",
       "      <td>Not only can you still get it, there's ...</td>\n",
       "      <td>NEU</td>\n",
       "    </tr>\n",
       "    <tr>\n",
       "      <th>4</th>\n",
       "      <td>0.0</td>\n",
       "      <td>0.713</td>\n",
       "      <td>0.287</td>\n",
       "      <td>0.9711</td>\n",
       "      <td>I am absolutely delighted by this grea...</td>\n",
       "      <td>POS</td>\n",
       "    </tr>\n",
       "  </tbody>\n",
       "</table>\n",
       "</div>"
      ],
      "text/plain": [
       "   neg    neu    pos  compound  \\\n",
       "0  0.0  1.000  0.000    0.0000   \n",
       "1  0.0  0.313  0.687    0.6588   \n",
       "2  0.0  1.000  0.000    0.0000   \n",
       "3  0.0  0.882  0.118    0.4939   \n",
       "4  0.0  0.713  0.287    0.9711   \n",
       "\n",
       "                                             comment sentiment  \n",
       "0          i dnot think you can get a copy of unc...       NEU  \n",
       "1                           What a great list!             POS  \n",
       "2          Of course you can get Uncle tom's Cabi...       NEU  \n",
       "3         Not only can you still get it, there's ...       NEU  \n",
       "4          I am absolutely delighted by this grea...       POS  "
      ]
     },
     "execution_count": 21,
     "metadata": {},
     "output_type": "execute_result"
    }
   ],
   "source": [
    "#give an overall pos, neg, neu sentiment for each comment\n",
    "sentiment['sentiment']='NEU'\n",
    "sentiment.loc[sentiment['compound'] > 0.5, 'sentiment'] = 'POS'\n",
    "sentiment.loc[sentiment['compound'] < -0.5, 'sentiment'] = 'NEG'\n",
    "sentiment.head()"
   ]
  },
  {
   "cell_type": "code",
   "execution_count": 22,
   "metadata": {},
   "outputs": [],
   "source": [
    "from sklearn.decomposition import NMF, LatentDirichletAllocation\n",
    "from sklearn.feature_extraction.text import TfidfVectorizer, CountVectorizer"
   ]
  },
  {
   "cell_type": "code",
   "execution_count": 23,
   "metadata": {},
   "outputs": [
    {
     "name": "stdout",
     "output_type": "stream",
     "text": [
      "Number of Topics:  6\n"
     ]
    }
   ],
   "source": [
    "#perform latent dirichlet allocation on the data and determine term freq\n",
    "count_vectorizer = CountVectorizer(stop_words='english')\n",
    "comment_items = comment_df['comment']\n",
    "term_frequency = count_vectorizer.fit_transform(comment_items)\n",
    "feature_names = count_vectorizer.get_feature_names()\n",
    "\n",
    "#lda\n",
    "lda = LatentDirichletAllocation(n_components=6, random_state=0)\n",
    "lda.fit(term_frequency) \n",
    "print(\"Number of Topics: \", len(lda.components_))"
   ]
  },
  {
   "cell_type": "code",
   "execution_count": 24,
   "metadata": {},
   "outputs": [
    {
     "name": "stdout",
     "output_type": "stream",
     "text": [
      "Topic:  0 books like reading twilight read society popular searching favorite make\n",
      "Topic:  1 shrugged atlas read books time people change path farm usa\n",
      "Topic:  2 list books wrote read love book fiction great written twilight\n",
      "Topic:  3 bible books like twilight wrote instance horribly skimmed written list\n",
      "Topic:  4 copy cabin uncle toms dnot think read debbie wrote book\n",
      "Topic:  5 rose mormon list twilight book postscript including images kill bored\n"
     ]
    }
   ],
   "source": [
    "#print out each topic and the associated words\n",
    "for idx, topic in enumerate(lda.components_):\n",
    "    print(\"Topic: \", idx, \" \".join(feature_names[i] for i in topic.argsort()[:-10 - 1:-1]))"
   ]
  },
  {
   "cell_type": "code",
   "execution_count": 25,
   "metadata": {},
   "outputs": [
    {
     "name": "stdout",
     "output_type": "stream",
     "text": [
      "Requirement already satisfied: wordcloud in c:\\users\\sydney\\anaconda33\\lib\\site-packages (1.8.1)\n",
      "Requirement already satisfied: pillow in c:\\users\\sydney\\anaconda33\\lib\\site-packages (from wordcloud) (7.0.0)\n",
      "Requirement already satisfied: matplotlib in c:\\users\\sydney\\anaconda33\\lib\\site-packages (from wordcloud) (3.1.3)\n",
      "Requirement already satisfied: numpy>=1.6.1 in c:\\users\\sydney\\anaconda33\\lib\\site-packages (from wordcloud) (1.18.1)\n",
      "Requirement already satisfied: cycler>=0.10 in c:\\users\\sydney\\anaconda33\\lib\\site-packages (from matplotlib->wordcloud) (0.10.0)\n",
      "Requirement already satisfied: kiwisolver>=1.0.1 in c:\\users\\sydney\\anaconda33\\lib\\site-packages (from matplotlib->wordcloud) (1.1.0)\n",
      "Requirement already satisfied: pyparsing!=2.0.4,!=2.1.2,!=2.1.6,>=2.0.1 in c:\\users\\sydney\\anaconda33\\lib\\site-packages (from matplotlib->wordcloud) (2.4.6)\n",
      "Requirement already satisfied: python-dateutil>=2.1 in c:\\users\\sydney\\anaconda33\\lib\\site-packages (from matplotlib->wordcloud) (2.8.1)\n",
      "Requirement already satisfied: six in c:\\users\\sydney\\anaconda33\\lib\\site-packages (from cycler>=0.10->matplotlib->wordcloud) (1.14.0)\n",
      "Requirement already satisfied: setuptools in c:\\users\\sydney\\anaconda33\\lib\\site-packages (from kiwisolver>=1.0.1->matplotlib->wordcloud) (45.2.0.post20200210)\n"
     ]
    }
   ],
   "source": [
    "#import word cloud to view top words for different lda components\n",
    "!pip install wordcloud\n",
    "from wordcloud import WordCloud"
   ]
  },
  {
   "cell_type": "code",
   "execution_count": 26,
   "metadata": {},
   "outputs": [
    {
     "name": "stdout",
     "output_type": "stream",
     "text": [
      "books 4.169462920120932\n",
      "like 4.1689127494277995\n",
      "reading 2.9456599056501043\n",
      "twilight 2.166947652859273\n",
      "read 2.1668504367297996\n",
      "society 2.1666662497060347\n",
      "popular 2.1666078165019975\n",
      "searching 1.167032506997095\n",
      "favorite 1.1670129275606305\n",
      "make 1.1670129275606305\n",
      "friends 1.1669169170100493\n",
      "novel 1.1668995637674657\n",
      "mind 1.166833751031771\n",
      "does 1.1668041817639154\n",
      "life 1.1667239956222462\n",
      "human 1.1667239956222462\n",
      "hate 1.1666724388535574\n",
      "changes 1.1666661753994436\n",
      "ages 1.1666661753994436\n",
      "recently 1.1666661753994436\n"
     ]
    }
   ],
   "source": [
    "#look at word cloud for the first topic listed above\n",
    "topic_0 = lda.components_[0]\n",
    "no_top_words = 20\n",
    "\n",
    "weights_lda = {}\n",
    "for i in topic_0.argsort()[:-no_top_words - 1:-1]:\n",
    "    print(feature_names[i], topic_0[i])\n",
    "    weights_lda[feature_names[i]] = topic_0[i]"
   ]
  },
  {
   "cell_type": "code",
   "execution_count": 27,
   "metadata": {},
   "outputs": [
    {
     "data": {
      "image/png": "[encoded data removed]",
      "text/plain": [
       "<PIL.Image.Image image mode=RGB size=400x200 at 0x80C9D50>"
      ]
     },
     "execution_count": 27,
     "metadata": {},
     "output_type": "execute_result"
    }
   ],
   "source": [
    "#view the word cloud for the above\n",
    "wc = WordCloud(background_color='white')\n",
    "wc.generate_from_frequencies(weights_lda)\n",
    "wc.to_image()"
   ]
  },
  {
   "cell_type": "code",
   "execution_count": 28,
   "metadata": {},
   "outputs": [
    {
     "name": "stdout",
     "output_type": "stream",
     "text": [
      "shrugged 5.166275512600252\n",
      "atlas 5.166275512600251\n",
      "read 4.064104271370808\n",
      "books 3.4515384260665574\n",
      "time 3.4464634309139384\n",
      "people 3.168050725811434\n",
      "change 3.1663261538764607\n",
      "path 3.16632615387646\n",
      "farm 3.16632615387646\n",
      "usa 3.16632615387646\n",
      "animal 3.16632615387646\n",
      "late 3.16632615387646\n",
      "absolutely 3.021974581747271\n",
      "wrote 2.4444424588160953\n",
      "like 2.1671818295844147\n",
      "twilight 2.167032707743564\n",
      "need 2.1668128244364935\n",
      "popular 2.166724702393989\n",
      "saying 2.166123161689828\n",
      "mary 2.1661231616898124\n"
     ]
    }
   ],
   "source": [
    "#repeat for topic 1\n",
    "topic_1 = lda.components_[1]\n",
    "no_top_words = 20\n",
    "\n",
    "weights_lda = {}\n",
    "for i in topic_1.argsort()[:-no_top_words - 1:-1]:\n",
    "    print(feature_names[i], topic_1[i])\n",
    "    weights_lda[feature_names[i]] = topic_1[i]"
   ]
  },
  {
   "cell_type": "code",
   "execution_count": 29,
   "metadata": {},
   "outputs": [
    {
     "name": "stderr",
     "output_type": "stream",
     "text": [
      "[nltk_data] Downloading package punkt to\n",
      "[nltk_data]     C:\\Users\\Sydney\\AppData\\Roaming\\nltk_data...\n",
      "[nltk_data]   Package punkt is already up-to-date!\n"
     ]
    },
    {
     "data": {
      "text/plain": [
       "448"
      ]
     },
     "execution_count": 29,
     "metadata": {},
     "output_type": "execute_result"
    }
   ],
   "source": [
    "#look at a frequency plot for the words in comments section\n",
    "#tokenize words to begin\n",
    "from nltk import word_tokenize\n",
    "import nltk\n",
    "nltk.download('punkt')\n",
    "\n",
    "#ensure proper items are included and remove stop words\n",
    "comment_items = re.sub(r'[^\\w]|https.*\\b', ' ', str(comment_items))\n",
    "\n",
    "tokens = word_tokenize(str(comment_items))\n",
    "len(tokens)"
   ]
  },
  {
   "cell_type": "code",
   "execution_count": 30,
   "metadata": {},
   "outputs": [
    {
     "data": {
      "image/png": "[encoded data removed]",
      "text/plain": [
       "<Figure size 432x288 with 1 Axes>"
      ]
     },
     "metadata": {
      "needs_background": "light"
     },
     "output_type": "display_data"
    },
    {
     "data": {
      "text/plain": [
       "<matplotlib.axes._subplots.AxesSubplot at 0xb640fb0>"
      ]
     },
     "execution_count": 30,
     "metadata": {},
     "output_type": "execute_result"
    }
   ],
   "source": [
    "#import items for distribution and plot top 20\n",
    "import matplotlib\n",
    "import matplotlib.pyplot as plt\n",
    "from nltk import FreqDist\n",
    "\n",
    "#ensure removal of stop words\n",
    "comment_items = [word for word in tokens if word.lower() not in stop_words]\n",
    "\n",
    "freq_dist = nltk.FreqDist(tokens)\n",
    "freq_dist.plot(20)"
   ]
  },
  {
   "cell_type": "code",
   "execution_count": 31,
   "metadata": {},
   "outputs": [
    {
     "data": {
      "text/plain": [
       "NEU    31\n",
       "POS    17\n",
       "NEG     2\n",
       "Name: sentiment, dtype: int64"
      ]
     },
     "execution_count": 31,
     "metadata": {},
     "output_type": "execute_result"
    }
   ],
   "source": [
    "#find count of neu, pos, neg comments\n",
    "sentiment['sentiment'].value_counts()"
   ]
  },
  {
   "cell_type": "markdown",
   "metadata": {},
   "source": [
    "### Analysis on books_df"
   ]
  },
  {
   "cell_type": "code",
   "execution_count": 33,
   "metadata": {},
   "outputs": [
    {
     "data": {
      "text/html": [
       "<div>\n",
       "<style scoped>\n",
       "    .dataframe tbody tr th:only-of-type {\n",
       "        vertical-align: middle;\n",
       "    }\n",
       "\n",
       "    .dataframe tbody tr th {\n",
       "        vertical-align: top;\n",
       "    }\n",
       "\n",
       "    .dataframe thead th {\n",
       "        text-align: right;\n",
       "    }\n",
       "</style>\n",
       "<table border=\"1\" class=\"dataframe\">\n",
       "  <thead>\n",
       "    <tr style=\"text-align: right;\">\n",
       "      <th></th>\n",
       "      <th>title</th>\n",
       "      <th>author</th>\n",
       "      <th>url</th>\n",
       "      <th>number</th>\n",
       "      <th>avg_rating</th>\n",
       "      <th>num_ratings</th>\n",
       "    </tr>\n",
       "  </thead>\n",
       "  <tbody>\n",
       "    <tr>\n",
       "      <th>0</th>\n",
       "      <td>To Kill a Mockingbird</td>\n",
       "      <td>Harper Lee</td>\n",
       "      <td>https://goodreads.com/book/show/2657.To_Kill_a...</td>\n",
       "      <td>1</td>\n",
       "      <td>4.27</td>\n",
       "      <td>4990356</td>\n",
       "    </tr>\n",
       "    <tr>\n",
       "      <th>1</th>\n",
       "      <td>Harry Potter and the Sorcerer's Stone (Harry ...</td>\n",
       "      <td>J.K. Rowling</td>\n",
       "      <td>https://goodreads.com/book/show/3.Harry_Potter...</td>\n",
       "      <td>2</td>\n",
       "      <td>4.47</td>\n",
       "      <td>7960059</td>\n",
       "    </tr>\n",
       "    <tr>\n",
       "      <th>2</th>\n",
       "      <td>Pride and Prejudice</td>\n",
       "      <td>Jane Austen</td>\n",
       "      <td>https://goodreads.com/book/show/1885.Pride_and...</td>\n",
       "      <td>3</td>\n",
       "      <td>4.27</td>\n",
       "      <td>3378369</td>\n",
       "    </tr>\n",
       "    <tr>\n",
       "      <th>3</th>\n",
       "      <td>The Diary of a Young Girl</td>\n",
       "      <td>Anne Frank</td>\n",
       "      <td>https://goodreads.com/book/show/48855.The_Diar...</td>\n",
       "      <td>4</td>\n",
       "      <td>4.16</td>\n",
       "      <td>3074354</td>\n",
       "    </tr>\n",
       "    <tr>\n",
       "      <th>4</th>\n",
       "      <td>Animal Farm</td>\n",
       "      <td>George Orwell</td>\n",
       "      <td>https://goodreads.com/book/show/170448.Animal_...</td>\n",
       "      <td>5</td>\n",
       "      <td>3.97</td>\n",
       "      <td>3080606</td>\n",
       "    </tr>\n",
       "  </tbody>\n",
       "</table>\n",
       "</div>"
      ],
      "text/plain": [
       "                                               title         author  \\\n",
       "0                             To Kill a Mockingbird      Harper Lee   \n",
       "1   Harry Potter and the Sorcerer's Stone (Harry ...   J.K. Rowling   \n",
       "2                               Pride and Prejudice     Jane Austen   \n",
       "3                         The Diary of a Young Girl      Anne Frank   \n",
       "4                                       Animal Farm   George Orwell   \n",
       "\n",
       "                                                 url number avg_rating  \\\n",
       "0  https://goodreads.com/book/show/2657.To_Kill_a...      1       4.27   \n",
       "1  https://goodreads.com/book/show/3.Harry_Potter...      2       4.47   \n",
       "2  https://goodreads.com/book/show/1885.Pride_and...      3       4.27   \n",
       "3  https://goodreads.com/book/show/48855.The_Diar...      4       4.16   \n",
       "4  https://goodreads.com/book/show/170448.Animal_...      5       3.97   \n",
       "\n",
       "  num_ratings  \n",
       "0     4990356  \n",
       "1     7960059  \n",
       "2     3378369  \n",
       "3     3074354  \n",
       "4     3080606  "
      ]
     },
     "execution_count": 33,
     "metadata": {},
     "output_type": "execute_result"
    }
   ],
   "source": [
    "books_df['num_ratings']=books_df['num_ratings'].str.replace(',','')\n",
    "books_df.head()"
   ]
  },
  {
   "cell_type": "code",
   "execution_count": 34,
   "metadata": {},
   "outputs": [],
   "source": [
    "import matplotlib.pyplot as plt"
   ]
  },
  {
   "cell_type": "code",
   "execution_count": 35,
   "metadata": {},
   "outputs": [],
   "source": [
    "top_10_authors = books_df['author'].value_counts().head(10)"
   ]
  },
  {
   "cell_type": "code",
   "execution_count": 36,
   "metadata": {},
   "outputs": [
    {
     "data": {
      "image/png": "[encoded data removed]",
      "text/plain": [
       "<Figure size 432x288 with 1 Axes>"
      ]
     },
     "metadata": {
      "needs_background": "light"
     },
     "output_type": "display_data"
    }
   ],
   "source": [
    "plt.plot(top_10_authors)\n",
    "plt.ylabel('book count')\n",
    "plt.xlabel('author')\n",
    "plt.xticks(rotation=45)\n",
    "plt.show()"
   ]
  },
  {
   "cell_type": "code",
   "execution_count": 37,
   "metadata": {},
   "outputs": [],
   "source": [
    "books_df['avg_rating']=pd.to_numeric(books_df['avg_rating'], errors='coerce')\n",
    "books_df['num_ratings']=pd.to_numeric(books_df['num_ratings'], errors='coerce')"
   ]
  },
  {
   "cell_type": "code",
   "execution_count": 38,
   "metadata": {},
   "outputs": [
    {
     "name": "stdout",
     "output_type": "stream",
     "text": [
      "Average rating:  4.131010101010101\n",
      "Highest rating:  4.61\n",
      "Lowest rating:  3.42\n"
     ]
    }
   ],
   "source": [
    "#highest, lowest, and average rating of these books\n",
    "print(\"Average rating: \", books_df['avg_rating'].mean())\n",
    "print(\"Highest rating: \", books_df['avg_rating'].max())\n",
    "print(\"Lowest rating: \", books_df['avg_rating'].min())"
   ]
  },
  {
   "cell_type": "code",
   "execution_count": 39,
   "metadata": {},
   "outputs": [
    {
     "name": "stdout",
     "output_type": "stream",
     "text": [
      "Average number of ratings:  2490413.4680851065\n",
      "Highest number of ratings:  7960059.0\n",
      "Lowest number of ratings:  1056509.0\n"
     ]
    }
   ],
   "source": [
    "#highest, lowest, and average rating #s of these books\n",
    "print(\"Average number of ratings: \", books_df['num_ratings'].mean())\n",
    "print(\"Highest number of ratings: \", books_df['num_ratings'].max())\n",
    "print(\"Lowest number of ratings: \", books_df['num_ratings'].min())"
   ]
  },
  {
   "cell_type": "code",
   "execution_count": 47,
   "metadata": {},
   "outputs": [
    {
     "data": {
      "image/png": "[encoded data removed]",
      "text/plain": [
       "<Figure size 432x288 with 2 Axes>"
      ]
     },
     "metadata": {
      "needs_background": "light"
     },
     "output_type": "display_data"
    }
   ],
   "source": [
    "plt.scatter(books_df['title'],books_df['avg_rating'],c=books_df['num_ratings'])\n",
    "plt.title('average ratings of recommended books')\n",
    "plt.ylabel('average rating of book')\n",
    "plt.xlabel('book')\n",
    "plt.xticks([])\n",
    "plt.colorbar()\n",
    "plt.show()"
   ]
  },
  {
   "cell_type": "code",
   "execution_count": null,
   "metadata": {},
   "outputs": [],
   "source": []
  }
 ],
 "metadata": {
  "kernelspec": {
   "display_name": "Python 3",
   "language": "python",
   "name": "python3"
  },
  "language_info": {
   "codemirror_mode": {
    "name": "ipython",
    "version": 3
   },
   "file_extension": ".py",
   "mimetype": "text/x-python",
   "name": "python",
   "nbconvert_exporter": "python",
   "pygments_lexer": "ipython3",
   "version": "3.7.6"
  }
 },
 "nbformat": 4,
 "nbformat_minor": 4
}
